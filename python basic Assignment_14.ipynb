{
 "cells": [
  {
   "cell_type": "markdown",
   "id": "0fde18e9",
   "metadata": {},
   "source": [
    "1. What does RGBA stand for?"
   ]
  },
  {
   "cell_type": "markdown",
   "id": "f33e52a2",
   "metadata": {},
   "source": [
    "RGBA stands for red, green, blue, and alpha (transparency) in the color\n",
    "An RGBA value is a tuple of 4 integers, each ranging from 0 to 255. The four integers correspond \n",
    "to the amount of red, green, blue, and alpha (transparency) in the color   "
   ]
  },
  {
   "cell_type": "markdown",
   "id": "d85f4154",
   "metadata": {},
   "source": [
    "\n",
    "2. From the Pillow module, how do you get the RGBA value of any images?"
   ]
  },
  {
   "cell_type": "code",
   "execution_count": 13,
   "id": "ae2be7a2",
   "metadata": {},
   "outputs": [
    {
     "data": {
      "text/plain": [
       "(255, 0, 0, 255)"
      ]
     },
     "execution_count": 13,
     "metadata": {},
     "output_type": "execute_result"
    }
   ],
   "source": [
    "from PIL import ImageColor\n",
    "ImageColor.getcolor(\"Red\", \"RGBA\")"
   ]
  },
  {
   "cell_type": "markdown",
   "id": "542e0500",
   "metadata": {},
   "source": [
    "\n",
    "3. What is a box tuple, and how does it work?"
   ]
  },
  {
   "cell_type": "markdown",
   "id": "8fde64d2",
   "metadata": {},
   "source": [
    "A box tuple is a tuple value of four integers: the left edge x-coordinate, the top edge y-coordinate, the width, and the height, respectively.\n",
    "\n",
    "Many of Pillow’s functions and methods take a box tuple argument. This means Pillow is expecting a tuple of four integer coordinates that represent a rectangular region in an image. The four integers are, in order, as follows:\n",
    "\n",
    "Left The x-coordinate of the leftmost edge of the box.\n",
    "\n",
    "Top The y-coordinate of the top edge of the box.\n",
    "\n",
    "Right The x-coordinate of one pixel to the right of the rightmost edge of the box. This integer must be greater than the left integer.\n",
    "\n",
    "Bottom The y-coordinate of one pixel lower than the bottom edge of the box. This integer must be greater than the top integer."
   ]
  },
  {
   "cell_type": "markdown",
   "id": "e6b8943e",
   "metadata": {},
   "source": [
    "\n",
    "4. Use your image and load in notebook then, How can you find out the width and height of an Image object?"
   ]
  },
  {
   "cell_type": "code",
   "execution_count": 15,
   "id": "01e68bbd",
   "metadata": {},
   "outputs": [
    {
     "data": {
      "text/plain": [
       "(332, 332)"
      ]
     },
     "execution_count": 15,
     "metadata": {},
     "output_type": "execute_result"
    }
   ],
   "source": [
    "\n",
    "from PIL import Image\n",
    "myImg = Image.open('test.jpg')\n",
    "w,h = myImg.size\n",
    "w,h"
   ]
  },
  {
   "cell_type": "markdown",
   "id": "3b84907c",
   "metadata": {},
   "source": [
    "5. What method would you call to get Image object for a 100×100 image, excluding the lower-left quarter of it"
   ]
  },
  {
   "cell_type": "code",
   "execution_count": 19,
   "id": "02bdeb7b",
   "metadata": {
    "scrolled": true
   },
   "outputs": [
    {
     "data": {
      "image/png": "[encoded data removed]",
      "text/plain": [
       "<PIL.Image.Image image mode=RGB size=100x100 at 0x7FE739C3E280>"
      ]
     },
     "execution_count": 19,
     "metadata": {},
     "output_type": "execute_result"
    }
   ],
   "source": [
    "myImg.resize((100,100))\n"
   ]
  },
  {
   "cell_type": "markdown",
   "id": "a2ed08c9",
   "metadata": {},
   "source": [
    "myImg.crop((0, 50, 50, 50))"
   ]
  },
  {
   "cell_type": "markdown",
   "id": "25b06327",
   "metadata": {},
   "source": [
    "\n",
    "6. After making changes to an Image object, how could you save it as an image file?\n"
   ]
  },
  {
   "cell_type": "code",
   "execution_count": 21,
   "id": "5a463c61",
   "metadata": {},
   "outputs": [],
   "source": [
    "myImg.save('new_filename.png') "
   ]
  },
  {
   "cell_type": "markdown",
   "id": "ee7dfc36",
   "metadata": {},
   "source": [
    "7. What module contains Pillow’s shape-drawing code?\n"
   ]
  },
  {
   "cell_type": "markdown",
   "id": "d60bd57a",
   "metadata": {},
   "source": [
    "The ImageDraw module contains code to draw on images"
   ]
  },
  {
   "cell_type": "markdown",
   "id": "27546804",
   "metadata": {},
   "source": [
    "8. Image objects do not have drawing methods. What kind of object does? How do you get this kind of object?"
   ]
  },
  {
   "cell_type": "markdown",
   "id": "2e6a52e7",
   "metadata": {},
   "source": [
    "ImageDraw objects have shape-drawing methods such as point(), line(), or rectangle(). They are returned by passing the Image object to the ImageDraw.Draw() function"
   ]
  }
 ],
 "metadata": {
  "kernelspec": {
   "display_name": "Python 3 (ipykernel)",
   "language": "python",
   "name": "python3"
  },
  "language_info": {
   "codemirror_mode": {
    "name": "ipython",
    "version": 3
   },
   "file_extension": ".py",
   "mimetype": "text/x-python",
   "name": "python",
   "nbconvert_exporter": "python",
   "pygments_lexer": "ipython3",
   "version": "3.9.7"
  }
 },
 "nbformat": 4,
 "nbformat_minor": 5
}
