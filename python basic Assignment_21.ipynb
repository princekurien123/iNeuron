{
 "cells": [
  {
   "cell_type": "markdown",
   "id": "6569d29d",
   "metadata": {},
   "source": [
    "1. Add the current date to the text file today.txt as a string.\n"
   ]
  },
  {
   "cell_type": "code",
   "execution_count": 12,
   "id": "6c71774b",
   "metadata": {},
   "outputs": [
    {
     "name": "stdout",
     "output_type": "stream",
     "text": [
      "File Created\n"
     ]
    }
   ],
   "source": [
    "from datetime import date \n",
    "now = date.today()\n",
    "cur_date = now.isoformat()\n",
    "with open(\"today.txt\", 'w') as f :\n",
    "    f.write(cur_date)\n",
    "    print(\"File Created\")\n"
   ]
  },
  {
   "cell_type": "markdown",
   "id": "7936854c",
   "metadata": {},
   "source": [
    "2. Read the text file today.txt into the string today_string\n"
   ]
  },
  {
   "cell_type": "code",
   "execution_count": 13,
   "id": "ce48ea67",
   "metadata": {},
   "outputs": [
    {
     "data": {
      "text/plain": [
       "'2022-01-11'"
      ]
     },
     "execution_count": 13,
     "metadata": {},
     "output_type": "execute_result"
    }
   ],
   "source": [
    "with open('today.txt','r') as file:\n",
    "    today_string = file.read()\n",
    "today_string"
   ]
  },
  {
   "cell_type": "code",
   "execution_count": null,
   "id": "48948261",
   "metadata": {},
   "outputs": [],
   "source": [
    "3. Parse the date from today_string.\n"
   ]
  },
  {
   "cell_type": "code",
   "execution_count": 14,
   "id": "e9370ee1",
   "metadata": {},
   "outputs": [
    {
     "data": {
      "text/plain": [
       "datetime.datetime(2022, 1, 11, 0, 0)"
      ]
     },
     "execution_count": 14,
     "metadata": {},
     "output_type": "execute_result"
    }
   ],
   "source": [
    "from datetime import datetime\n",
    "format = '%Y-%m-%d'\n",
    "datetime.strptime(today_string,format)"
   ]
  },
  {
   "cell_type": "markdown",
   "id": "dfcb3c57",
   "metadata": {},
   "source": [
    "4. List the files in your current directory\n"
   ]
  },
  {
   "cell_type": "code",
   "execution_count": 15,
   "id": "7c10394d",
   "metadata": {},
   "outputs": [
    {
     "data": {
      "text/plain": [
       "['test.txt',\n",
       " 'python basic Assignment_20.ipynb',\n",
       " '.ipynb_checkpoints',\n",
       " 'python basic Assignment_21.ipynb',\n",
       " '__pycache__',\n",
       " 'test.txr',\n",
       " 'today.txt',\n",
       " 'python basic Assignment_18.ipynb',\n",
       " 'books.csv',\n",
       " 'books.db',\n",
       " 'python basic Assignment_19.ipynb',\n",
       " 'README.md']"
      ]
     },
     "execution_count": 15,
     "metadata": {},
     "output_type": "execute_result"
    }
   ],
   "source": [
    "import os \n",
    "os.listdir()"
   ]
  },
  {
   "cell_type": "markdown",
   "id": "9976aa36",
   "metadata": {},
   "source": [
    "5. Create a list of all of the files in your parent directory (minimum five files should be available).\n"
   ]
  },
  {
   "cell_type": "code",
   "execution_count": 20,
   "id": "f8ed325a",
   "metadata": {},
   "outputs": [
    {
     "name": "stdout",
     "output_type": "stream",
     "text": [
      ".. ['.ipynb_checkpoints', 'Python basic Assignment ', 'Python programming Basic'] []\n",
      "../.ipynb_checkpoints [] []\n",
      "../Python basic Assignment  ['.ipynb_checkpoints', '__pycache__'] ['test.txt', 'python basic Assignment_20.ipynb', 'python basic Assignment_21.ipynb', 'test.txr', 'today.txt', 'python basic Assignment_18.ipynb', 'books.csv', 'books.db', 'python basic Assignment_19.ipynb', 'README.md']\n",
      "../Python basic Assignment /.ipynb_checkpoints [] ['python basic Assignment_21-checkpoint.ipynb', 'python basic Assignment_20-checkpoint.ipynb']\n",
      "../Python basic Assignment /__pycache__ [] ['zoo.cpython-39.pyc']\n",
      "../Python programming Basic ['.ipynb_checkpoints'] []\n",
      "../Python programming Basic/.ipynb_checkpoints [] ['python basic Assignment_20-checkpoint.ipynb', 'python basic Assignment_19-checkpoint.ipynb', 'python basic Assignment_18-checkpoint.ipynb']\n"
     ]
    }
   ],
   "source": [
    "for path,direc, file  in os.walk('..'):\n",
    "    print(path,direc,file)"
   ]
  },
  {
   "cell_type": "markdown",
   "id": "4f55f06c",
   "metadata": {},
   "source": [
    "6. Use multiprocessing to create three separate processes. Make each one wait a random number of seconds between one and five, print the current time, and then exit.\n"
   ]
  },
  {
   "cell_type": "code",
   "execution_count": 21,
   "id": "4116b50e",
   "metadata": {},
   "outputs": [
    {
     "name": "stdout",
     "output_type": "stream",
     "text": [
      "wait 0.2029230110826129 seconds, time is 2022-01-11 03:53:03.801662\n",
      "wait 0.6118626998224473 seconds, time is 2022-01-11 03:53:04.207593\n",
      "wait 0.936442393466754 seconds, time is 2022-01-11 03:53:04.491983\n"
     ]
    }
   ],
   "source": [
    "import multiprocessing\n",
    "from datetime import datetime\n",
    "from time import sleep\n",
    "import random    \n",
    "\n",
    "def printsec(seconds):\n",
    "    sleep(seconds)\n",
    "    print('wait', seconds, 'seconds, time is', datetime.utcnow())\n",
    "    \n",
    "if __name__ == '__main__':\n",
    "    for n in range(3):\n",
    "        seconds = random.random()\n",
    "        proc = multiprocessing.Process(target=printsec, args=(seconds,))\n",
    "        proc.start()"
   ]
  },
  {
   "cell_type": "markdown",
   "id": "02a5f00a",
   "metadata": {},
   "source": [
    "7. Create a date object of your day of birth.\n"
   ]
  },
  {
   "cell_type": "code",
   "execution_count": 23,
   "id": "6f3abcc8",
   "metadata": {},
   "outputs": [
    {
     "data": {
      "text/plain": [
       "datetime.date(1987, 8, 13)"
      ]
     },
     "execution_count": 23,
     "metadata": {},
     "output_type": "execute_result"
    }
   ],
   "source": [
    "my_date = date(1987,8,13)\n",
    "my_date"
   ]
  },
  {
   "cell_type": "markdown",
   "id": "03b1a9c7",
   "metadata": {},
   "source": [
    "8. What day of the week was your day of birth?\n"
   ]
  },
  {
   "cell_type": "code",
   "execution_count": 24,
   "id": "c629a25c",
   "metadata": {},
   "outputs": [
    {
     "data": {
      "text/plain": [
       "3"
      ]
     },
     "execution_count": 24,
     "metadata": {},
     "output_type": "execute_result"
    }
   ],
   "source": [
    "my_date.weekday()"
   ]
  },
  {
   "cell_type": "markdown",
   "id": "7600645f",
   "metadata": {},
   "source": [
    "9. When will you be (or when were you) 10,000 days old?\n"
   ]
  },
  {
   "cell_type": "code",
   "execution_count": 26,
   "id": "eecaaca7",
   "metadata": {},
   "outputs": [
    {
     "data": {
      "text/plain": [
       "datetime.date(2014, 12, 29)"
      ]
     },
     "execution_count": 26,
     "metadata": {},
     "output_type": "execute_result"
    }
   ],
   "source": [
    "from datetime import timedelta\n",
    "day10000 = my_date + timedelta(days=10000)\n",
    "day10000"
   ]
  },
  {
   "cell_type": "code",
   "execution_count": null,
   "id": "0e37a040",
   "metadata": {},
   "outputs": [],
   "source": []
  }
 ],
 "metadata": {
  "kernelspec": {
   "display_name": "Python 3 (ipykernel)",
   "language": "python",
   "name": "python3"
  },
  "language_info": {
   "codemirror_mode": {
    "name": "ipython",
    "version": 3
   },
   "file_extension": ".py",
   "mimetype": "text/x-python",
   "name": "python",
   "nbconvert_exporter": "python",
   "pygments_lexer": "ipython3",
   "version": "3.9.7"
  }
 },
 "nbformat": 4,
 "nbformat_minor": 5
}
