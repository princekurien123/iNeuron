{
 "cells": [
  {
   "cell_type": "markdown",
   "id": "00cd28e6",
   "metadata": {},
   "source": [
    "1. To what does a relative path refer?\n"
   ]
  },
  {
   "cell_type": "markdown",
   "id": "fa40915a",
   "metadata": {},
   "source": [
    "Relative paths are relative to the current working directory.\n",
    "\n"
   ]
  },
  {
   "cell_type": "markdown",
   "id": "e57855f8",
   "metadata": {},
   "source": [
    "2. What does an absolute path start with your operating system?"
   ]
  },
  {
   "cell_type": "markdown",
   "id": "b9fad2ad",
   "metadata": {},
   "source": [
    "Absolute paths start with the root folder, such as /"
   ]
  },
  {
   "cell_type": "markdown",
   "id": "d6d3e512",
   "metadata": {},
   "source": [
    "\n",
    "3. What do the functions os.getcwd() and os.chdir() do?"
   ]
  },
  {
   "cell_type": "markdown",
   "id": "2f2d8aa9",
   "metadata": {},
   "source": [
    "The os.getcwd() function returns the current working directory. The os.chdir() function changes the current working directory."
   ]
  },
  {
   "cell_type": "markdown",
   "id": "0599bba9",
   "metadata": {},
   "source": [
    "\n",
    "4. What are the . and .. folders?"
   ]
  },
  {
   "cell_type": "markdown",
   "id": "cf03fa66",
   "metadata": {},
   "source": [
    ". is the current floder and  .. is the parent folder "
   ]
  },
  {
   "cell_type": "markdown",
   "id": "25e55106",
   "metadata": {},
   "source": [
    "\n",
    "5. In C:\\bacon\\eggs\\spam.txt, which part is the dir name, and which part is the base name?\n"
   ]
  },
  {
   "cell_type": "markdown",
   "id": "a92b6fa1",
   "metadata": {},
   "source": [
    "C:\\bacon\\eggs is rthe dir name and spam.txt is the base name "
   ]
  },
  {
   "cell_type": "markdown",
   "id": "fa1adb3d",
   "metadata": {},
   "source": [
    "\n",
    "6. What are the three “mode” arguments that can be passed to the open() function?\n"
   ]
  },
  {
   "cell_type": "markdown",
   "id": "66993dbb",
   "metadata": {},
   "source": [
    "'r' for read mode, 'w' for write mode, and 'a' for append mode\n",
    "\n"
   ]
  },
  {
   "cell_type": "markdown",
   "id": "115c8930",
   "metadata": {},
   "source": [
    "7. What happens if an existing file is opened in write mode?"
   ]
  },
  {
   "cell_type": "markdown",
   "id": "c74ad7eb",
   "metadata": {},
   "source": [
    "An existing file opened in write mode is erased and completely overwritten."
   ]
  },
  {
   "cell_type": "markdown",
   "id": "056c9ec1",
   "metadata": {},
   "source": [
    "\n",
    "8. How do you tell the difference between read() and readlines()?"
   ]
  },
  {
   "cell_type": "markdown",
   "id": "746480e8",
   "metadata": {},
   "source": [
    "read() method returns the file’s entire contents as a single string value. The readlines() method returns a list of strings, where each string is a line from the file’s contents."
   ]
  },
  {
   "cell_type": "markdown",
   "id": "2cd748ca",
   "metadata": {},
   "source": [
    "\n",
    "9. What data structure does a shelf value resemble?"
   ]
  },
  {
   "cell_type": "markdown",
   "id": "7fe03a2d",
   "metadata": {},
   "source": [
    "shelf value resembles a dictionary value; it has keys and values, along with keys() and values() methods that work similarly to the dictionary methods of the same names."
   ]
  }
 ],
 "metadata": {
  "kernelspec": {
   "display_name": "Python 3 (ipykernel)",
   "language": "python",
   "name": "python3"
  },
  "language_info": {
   "codemirror_mode": {
    "name": "ipython",
    "version": 3
   },
   "file_extension": ".py",
   "mimetype": "text/x-python",
   "name": "python",
   "nbconvert_exporter": "python",
   "pygments_lexer": "ipython3",
   "version": "3.9.7"
  }
 },
 "nbformat": 4,
 "nbformat_minor": 5
}
