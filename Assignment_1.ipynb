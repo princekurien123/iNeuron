{
 "cells": [
  {
   "cell_type": "markdown",
   "id": "6d088f2b",
   "metadata": {},
   "source": [
    "1. In the below elements which of them are values or an expression? eg:- values can be integer or string and expressions will be mathematical operators.\n",
    "* \n",
    "'hello'\n",
    "-87.8\n",
    "- \n",
    "/ \n",
    "    + \n",
    "6 \n"
   ]
  },
  {
   "cell_type": "markdown",
   "id": "c62ed537",
   "metadata": {},
   "source": [
    "ans : The operators are +, -, *, and /. The values are 'hello', -88.8, and 5."
   ]
  },
  {
   "cell_type": "markdown",
   "id": "63e5843b",
   "metadata": {},
   "source": [
    "2. What is the difference between string and variable?\n",
    "\n",
    "Ans : Variable is a name given to the memory location where the values is stored in the memory - avariables are containers for storing data value, a python variable can take any values, like, int, float or string. \n",
    "    Example a = 23, n = 23.5, strVal = 'Prince'\n",
    "\n",
    "String represents a text value enclosed with in two double quotes or two single quotes. \n",
    "Example \"Test\", \"Check\"\n"
   ]
  },
  {
   "cell_type": "markdown",
   "id": "db838953",
   "metadata": {},
   "source": [
    "3. Describe three different data types.\n",
    "Ans: Three data types in python\n",
    "- int - A positive or negative whole number without a decimal point. example  a = 10\n",
    "- floating point numbers - A positive or negative whole number with a decimal point. b = 10.5\n",
    "- string - any text with in two single or double quotes. c = 'test'\n"
   ]
  },
  {
   "cell_type": "markdown",
   "id": "e42dbec5",
   "metadata": {},
   "source": [
    "\n",
    "4. What is an expression made up of? What do all expressions do?\n",
    "\n",
    "ans : An expression is a combination of values and operators. All expressions evaluate (that is, reduce) to a single value."
   ]
  },
  {
   "cell_type": "markdown",
   "id": "723e4d75",
   "metadata": {},
   "source": [
    "5. This assignment statements, like spam = 10. What is the difference between an expression and a statement?\n",
    "\n",
    "Ans:\n",
    "- The assignemnt statemets assign a value to the variable.\n",
    "- The expressions evalues the value to a variable.\n",
    "- in spam = 10 , value 10 in assigned to spam, and now spam will have value 10.\n",
    "- But in expression a = C+B, the value of a depends on the value of C and B."
   ]
  },
  {
   "cell_type": "markdown",
   "id": "79ee3348",
   "metadata": {},
   "source": [
    "6. After running the following code, what does the variable bacon contain?\n",
    "bacon = 22\n",
    "bacon + 1\n",
    "\n",
    "Ans : Bacon will still have value 22 . as the second statementy is not assigned .\n",
    "\n"
   ]
  },
  {
   "cell_type": "code",
   "execution_count": 7,
   "id": "a41a6a36",
   "metadata": {},
   "outputs": [],
   "source": [
    "bacon = 22"
   ]
  },
  {
   "cell_type": "code",
   "execution_count": 8,
   "id": "1db5ce40",
   "metadata": {},
   "outputs": [
    {
     "data": {
      "text/plain": [
       "23"
      ]
     },
     "execution_count": 8,
     "metadata": {},
     "output_type": "execute_result"
    }
   ],
   "source": [
    "bacon + 1"
   ]
  },
  {
   "cell_type": "code",
   "execution_count": 9,
   "id": "b3ea3f61",
   "metadata": {},
   "outputs": [
    {
     "data": {
      "text/plain": [
       "22"
      ]
     },
     "execution_count": 9,
     "metadata": {},
     "output_type": "execute_result"
    }
   ],
   "source": [
    "bacon"
   ]
  },
  {
   "cell_type": "markdown",
   "id": "c7953851",
   "metadata": {},
   "source": [
    "\n",
    "7. What should the values of the following two terms be?\n",
    "'spam' + 'spamspam'\n",
    "'spam' * 3\n",
    "\n",
    "Both outputs 'spamspamspam'`"
   ]
  },
  {
   "cell_type": "markdown",
   "id": "38f62c89",
   "metadata": {},
   "source": [
    "8. Why is eggs a valid variable name while 100 is invalid?\n",
    "\n",
    "Ans:\n",
    "- Variable name can not starts with numbers."
   ]
  },
  {
   "cell_type": "markdown",
   "id": "a5d66e25",
   "metadata": {},
   "source": [
    "9. What three functions can be used to get the integer, floating-point number, or string version of a value?\n"
   ]
  },
  {
   "cell_type": "markdown",
   "id": "326f77c0",
   "metadata": {},
   "source": [
    "Ans \n",
    "\n",
    "- int()\n",
    "- float()\n",
    "- str()  will convert the values to integer, float or string versions of the values passed to them\n"
   ]
  },
  {
   "cell_type": "markdown",
   "id": "1fb58fe7",
   "metadata": {},
   "source": [
    "10. Why does this expression cause an error? How can you fix it?\n",
    "'I have eaten ' + 99 + ' burritos.'\n",
    "\n"
   ]
  },
  {
   "cell_type": "markdown",
   "id": "36a92bab",
   "metadata": {},
   "source": [
    "Ans - This will error out since string concatination with interger values can not be performed.\n",
    "This can be fixed by converting 99 into string by str(99)"
   ]
  }
 ],
 "metadata": {
  "kernelspec": {
   "display_name": "Python 3 (ipykernel)",
   "language": "python",
   "name": "python3"
  },
  "language_info": {
   "codemirror_mode": {
    "name": "ipython",
    "version": 3
   },
   "file_extension": ".py",
   "mimetype": "text/x-python",
   "name": "python",
   "nbconvert_exporter": "python",
   "pygments_lexer": "ipython3",
   "version": "3.10.0"
  }
 },
 "nbformat": 4,
 "nbformat_minor": 5
}
