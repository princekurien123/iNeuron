{
 "cells": [
  {
   "cell_type": "markdown",
   "id": "7cd3e8ce",
   "metadata": {},
   "source": [
    "1. Why are functions advantageous to have in your programs?"
   ]
  },
  {
   "cell_type": "markdown",
   "id": "8d9f90ab",
   "metadata": {},
   "source": [
    "The advantages of using functions are:\n",
    "\n",
    "\n",
    "Avoid repetition of codes.\n",
    "Increases program readability and modularity\n",
    "Divide a complex problem into simpler ones.\n",
    "Reduces chances of error.\n",
    "Debuging a program becomes easier by using function."
   ]
  },
  {
   "cell_type": "markdown",
   "id": "2b4e5906",
   "metadata": {},
   "source": [
    "2. When does the code in a function execute: when the function is defined or when the function is called?"
   ]
  },
  {
   "cell_type": "markdown",
   "id": "defa88f8",
   "metadata": {},
   "source": [
    " The code in a function executes when the function is called, not when the function is defined."
   ]
  },
  {
   "cell_type": "markdown",
   "id": "2165319d",
   "metadata": {},
   "source": [
    "3. What statement creates a function?"
   ]
  },
  {
   "cell_type": "markdown",
   "id": "16496b50",
   "metadata": {},
   "source": [
    "The def functionName() createes a function"
   ]
  },
  {
   "cell_type": "markdown",
   "id": "ccd660ef",
   "metadata": {},
   "source": [
    "\n",
    "4. What is the difference between a function and a function call?\n"
   ]
  },
  {
   "cell_type": "markdown",
   "id": "4abea3cb",
   "metadata": {},
   "source": [
    "A function consists of the def statement and the code in its def clause.\n",
    "\n",
    "A function call is what moves the program execution into the function, and the function call evaluates to the function’s return value."
   ]
  },
  {
   "cell_type": "markdown",
   "id": "d14d54de",
   "metadata": {},
   "source": [
    "5. How many global scopes are there in a Python program? How many local scopes?\n",
    "\n",
    "There is one global scope, and a local scope is created whenever a function is called"
   ]
  },
  {
   "cell_type": "markdown",
   "id": "35363f42",
   "metadata": {},
   "source": [
    "6. What happens to variables in a local scope when the function call returns?\n",
    "\n",
    "\n",
    "When a function returns, the local scope is destroyed, and all the variables in it are forgotten. we will not be able to access the out side the functiond"
   ]
  },
  {
   "cell_type": "markdown",
   "id": "41725994",
   "metadata": {},
   "source": [
    "7. What is the concept of a return value? Is it possible to have a return value in an expression?\n",
    "\n",
    "\n",
    "A return value is the value that a function call evaluates to. A return value can be used as part of an expression, Like any value"
   ]
  },
  {
   "cell_type": "markdown",
   "id": "f51529b8",
   "metadata": {},
   "source": [
    "8. If a function does not have a return statement, what is the return value of a call to that function?\n",
    "\n",
    "If there is no return statement for a function, its return value is None"
   ]
  },
  {
   "cell_type": "markdown",
   "id": "7905be33",
   "metadata": {},
   "source": [
    "9. How do you make a function variable refer to the global variable?\n",
    "\n",
    "By representing a variable by global keyword in the body of a function\n",
    "Example : global a\n"
   ]
  },
  {
   "cell_type": "markdown",
   "id": "e10849f8",
   "metadata": {},
   "source": [
    "\n",
    "10. What is the data type of None?\n",
    "\n",
    "The data type of none is NoneType\n"
   ]
  },
  {
   "cell_type": "markdown",
   "id": "cdab26fa",
   "metadata": {},
   "source": [
    "11. What does the sentence import areallyourpetsnamederic do?\n",
    "\n",
    "Imports areallyourpetsnamederic to the current progam.\n",
    "\n",
    "areallyourpetsnamederic ia not a python module. Importing this module will throughs ModuleNotFoundError exception\n",
    "\n"
   ]
  },
  {
   "cell_type": "markdown",
   "id": "1e197215",
   "metadata": {},
   "source": [
    "12. If you had a bacon() feature in a spam module, what would you call it after importing spam?\n",
    "\n",
    "\n",
    "This function can be called with spam.bacon(). like below\n",
    "    import spam\n",
    "    spam.bacon()"
   ]
  },
  {
   "cell_type": "markdown",
   "id": "6ebb569d",
   "metadata": {},
   "source": [
    "13. What can you do to save a programme from crashing if it encounters an error?\n",
    "\n",
    "Place the line of code that might cause an error in a try clause."
   ]
  },
  {
   "cell_type": "markdown",
   "id": "84617106",
   "metadata": {},
   "source": [
    "14. What is the purpose of the try clause? What is the purpose of the except clause?\n",
    "\n",
    "The code that could potentially cause an error goes in the try clause.\n",
    "\n",
    "The code that executes if an error happens goes in the except clause."
   ]
  }
 ],
 "metadata": {
  "kernelspec": {
   "display_name": "Python 3 (ipykernel)",
   "language": "python",
   "name": "python3"
  },
  "language_info": {
   "codemirror_mode": {
    "name": "ipython",
    "version": 3
   },
   "file_extension": ".py",
   "mimetype": "text/x-python",
   "name": "python",
   "nbconvert_exporter": "python",
   "pygments_lexer": "ipython3",
   "version": "3.9.7"
  }
 },
 "nbformat": 4,
 "nbformat_minor": 5
}
