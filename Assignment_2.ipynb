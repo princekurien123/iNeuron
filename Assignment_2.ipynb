{
 "cells": [
  {
   "cell_type": "markdown",
   "id": "6d6e62e0",
   "metadata": {
    "id": "6d6e62e0"
   },
   "source": [
    "1.What are the two values of the Boolean data type? How do you write them?\n"
   ]
  },
  {
   "cell_type": "markdown",
   "id": "qDcNACQu43vd",
   "metadata": {
    "id": "qDcNACQu43vd"
   },
   "source": [
    "The two boolean types in python are True and False\n",
    "- They are written as \n",
    "- X =True\n",
    "- b = FalseTh"
   ]
  },
  {
   "cell_type": "markdown",
   "id": "69ccd68c",
   "metadata": {
    "id": "69ccd68c"
   },
   "source": [
    "2. What are the three different types of Boolean operators?\n"
   ]
  },
  {
   "cell_type": "markdown",
   "id": "ghrGtuW-5ZqZ",
   "metadata": {
    "id": "ghrGtuW-5ZqZ"
   },
   "source": [
    "There are mainly three types of logical operators in python : logical AND, logical OR and logical NOT. They are used in the code as and,or and not\n"
   ]
  },
  {
   "cell_type": "markdown",
   "id": "7f035624",
   "metadata": {
    "id": "7f035624"
   },
   "source": [
    "\n",
    "3. Make a list of each Boolean operator's truth tables (i.e. every possible combination of Boolean values for the operator and what it evaluate ).\n"
   ]
  },
  {
   "cell_type": "code",
   "execution_count": 3,
   "id": "-ikfRM966gCb",
   "metadata": {
    "colab": {
     "base_uri": "https://localhost:8080/"
    },
    "executionInfo": {
     "elapsed": 9,
     "status": "ok",
     "timestamp": 1641733062530,
     "user": {
      "displayName": "Prince Kurien",
      "photoUrl": "https://lh3.googleusercontent.com/a/default-user=s64",
      "userId": "06429395630320780661"
     },
     "user_tz": -240
    },
    "id": "-ikfRM966gCb",
    "outputId": "03f7021c-f3ca-47b0-c836-9d7b38f43ca6"
   },
   "outputs": [
    {
     "name": "stdout",
     "output_type": "stream",
     "text": [
      "\n",
      "The AND operator truth table\n",
      " A  B AandB\n",
      "[0, 0, 0]\n",
      "[0, 1, 0]\n",
      "[1, 1, 1]\n",
      "\n",
      "The OR operator truth table\n",
      " A  B AorB\n",
      "[0, 0, 0]\n",
      "[0, 1, 1]\n",
      "[1, 1, 1]\n",
      "\n",
      "The NOT operator truth table\n",
      " A notA\n",
      "[0, 1]\n",
      "[1, 0]\n"
     ]
    }
   ],
   "source": [
    "andList = [[0, 0 ,0],[0,1,0],[1,1,1]]\n",
    "\n",
    "print(\"\\nThe AND operator truth table\")\n",
    "print(\" A  B AandB\")\n",
    "for i in andList:\n",
    "    print(i)\n",
    "    \n",
    "orList = [[0, 0 ,0],[0,1,1],[1,1,1]]\n",
    "\n",
    "print(\"\\nThe OR operator truth table\")\n",
    "print(\" A  B AorB\")\n",
    "for i in orList:\n",
    "    print(i)\n",
    "    \n",
    "notList = [[0, 1],[1,0]]\n",
    "\n",
    "print(\"\\nThe NOT operator truth table\")\n",
    "print(\" A notA\")\n",
    "for i in notList:\n",
    "    print(i)"
   ]
  },
  {
   "cell_type": "markdown",
   "id": "a3a170aa",
   "metadata": {
    "id": "a3a170aa"
   },
   "source": [
    "4. What are the values of the following expressions?\n",
    "(5 > 4) and (3 == 5)\n",
    "not (5 > 4)\n",
    "(5 > 4) or (3 == 5)\n",
    "not ((5 > 4) or (3 == 5))\n",
    "(True and True) and (True == False)\n",
    "(not False) or (not True)\n"
   ]
  },
  {
   "cell_type": "markdown",
   "id": "I25jB1Tp6zWk",
   "metadata": {
    "id": "I25jB1Tp6zWk"
   },
   "source": [
    " - (5 > 4) and (3 == 5) \n",
    "    - not (5 > 4)\n",
    "    - (5 > 4) or (3 == 5)\n",
    "    - not ((5 > 4) or (3 == 5))\n",
    "    - (True and True) and (True == False)\n",
    "    - (not False) or (not True)"
   ]
  },
  {
   "cell_type": "markdown",
   "id": "OwnIZwS_65Z0",
   "metadata": {
    "id": "OwnIZwS_65Z0"
   },
   "source": [
    " (5 > 4) and (3 == 5)  - > True and False = False\n",
    "- not (5 > 4) -> not(True) = False\n",
    "- (5 > 4) or (3 == 5) -> True or False = True\n",
    "- not ((5 > 4) or (3 == 5)) -> not(True) - >False\n",
    "- (True and True) and (True == False) - > (True) and (False) = False\n",
    "- (not False) or (not True) -> True or False = True"
   ]
  },
  {
   "cell_type": "markdown",
   "id": "c46263cb",
   "metadata": {
    "id": "c46263cb"
   },
   "source": [
    "5. What are the six comparison operators?"
   ]
  },
  {
   "cell_type": "markdown",
   "id": "c2wFrqc_8HGZ",
   "metadata": {
    "id": "c2wFrqc_8HGZ"
   },
   "source": [
    "Following are 6 comparision operator in Python\n",
    "== -> Equal \n",
    "!= -> Not equal\n",
    "\n",
    "> -> Greater than\n",
    "< -> Less than\n",
    ">= -> Greater than or equal to\n",
    "<= -> Less than or equal to"
   ]
  },
  {
   "cell_type": "markdown",
   "id": "7e292f05",
   "metadata": {
    "id": "7e292f05"
   },
   "source": [
    "\n",
    "6. How do you tell the difference between the equal to and assignment operators?Describe a condition and when you would use one.\n"
   ]
  },
  {
   "cell_type": "markdown",
   "id": "MkfMcOy97pTW",
   "metadata": {
    "id": "MkfMcOy97pTW"
   },
   "source": [
    "Assignment operator \"=\"\n",
    "\n",
    "It is an assignment operator.\n",
    "It is used for assigning the value to a variable.\n",
    "example a = 10, str = \"Prince\"\n",
    "Constant term cannot be placed on left hand side.\n",
    "Example: 1=x; is invalid.\n",
    "\n",
    "Equal to Operator \"==\"\n",
    "It is a relational or comparison operator\n",
    "It is used for comparing two values. It returns 1 if both the values are equal otherwise returns 0.\n",
    "Constant term can be placed in the left hand side.\n",
    "Example: 1==1 is valid and returns 1.\n",
    "\n",
    "example :\n",
    "\n",
    "x=10\n",
    "y=10\n",
    "\n",
    "if x==y:\n",
    "    print(\"True\")\n",
    "else:\n",
    "    print(\"False\")"
   ]
  },
  {
   "cell_type": "markdown",
   "id": "a6ae17a0",
   "metadata": {
    "id": "a6ae17a0"
   },
   "source": [
    "7. Identify the three blocks in this code:\n",
    "\n",
    "spam = 0\n",
    "if spam == 10:\n",
    "print('eggs')\n",
    "if spam > 5:\n",
    "print('bacon')\n",
    "else:\n",
    "print('ham')\n",
    "print('spam')\n",
    "print('spam')\n"
   ]
  },
  {
   "cell_type": "code",
   "execution_count": 4,
   "id": "c5c415a7",
   "metadata": {},
   "outputs": [
    {
     "name": "stdout",
     "output_type": "stream",
     "text": [
      "ham\n",
      "spam\n",
      "spam\n"
     ]
    }
   ],
   "source": [
    "spam = 0  # ist block\n",
    "    \n",
    "if spam == 10: # second block\n",
    "    print(\"eggs\")  \n",
    "\n",
    "if spam > 5: # 3rd Block\n",
    "    print(\"bacon\")\n",
    "else:\n",
    "    print(\"ham\")\n",
    "    print(\"spam\")\n",
    "    print(\"spam\")"
   ]
  },
  {
   "cell_type": "markdown",
   "id": "e76df0a9",
   "metadata": {
    "id": "e76df0a9"
   },
   "source": [
    "8. Write code that prints Hello if 1 is stored in spam, prints Howdy if 2 is stored in spam, and prints Greetings! if anything else is stored in spam.\n"
   ]
  },
  {
   "cell_type": "code",
   "execution_count": 6,
   "id": "ec2b2d35",
   "metadata": {},
   "outputs": [
    {
     "name": "stdout",
     "output_type": "stream",
     "text": [
      "Enter spam value :1\n",
      "Hello\n"
     ]
    }
   ],
   "source": [
    "spam = int(input(\"Enter spam value :\"))\n",
    "if spam == 1 :\n",
    "    print(\"Hello\")\n",
    "elif spam == 2:\n",
    "    print(\"Howdy\")\n",
    "else:\n",
    "    print(\"Greetings!!!\")"
   ]
  },
  {
   "cell_type": "markdown",
   "id": "6316a77e",
   "metadata": {
    "id": "6316a77e"
   },
   "source": [
    "\n",
    "9.If your programme is stuck in an endless loop, what keys you’ll press?"
   ]
  },
  {
   "cell_type": "markdown",
   "id": "001decfc",
   "metadata": {},
   "source": [
    "CTRL + c \n",
    "\n"
   ]
  },
  {
   "cell_type": "markdown",
   "id": "094bfb58",
   "metadata": {},
   "source": [
    "10. How can you tell the difference between break and continue?"
   ]
  },
  {
   "cell_type": "markdown",
   "id": "b2a37b9a",
   "metadata": {},
   "source": [
    "Break statements exist in Python to exit or “break” a for or while conditional loop.\n",
    "The continue statement is used to skip code within a loop for certain iterations of the loop."
   ]
  },
  {
   "cell_type": "markdown",
   "id": "88be2f8d",
   "metadata": {
    "id": "88be2f8d"
   },
   "source": [
    "\n",
    "11. In a for loop, what is the difference between range(10), range(0, 10), and range(0, 10, 1)?"
   ]
  },
  {
   "cell_type": "markdown",
   "id": "369ace88",
   "metadata": {},
   "source": [
    "There is no difference in the range(10), range(0,10) and range(0,10,1). range by default takes 0 as starting point and 1 as by default increment."
   ]
  },
  {
   "cell_type": "markdown",
   "id": "ae9db89f",
   "metadata": {
    "id": "ae9db89f"
   },
   "source": [
    "\n",
    "12. Write a short program that prints the numbers 1 to 10 using a for loop. Then write an equivalent program that prints the numbers 1 to 10 using a while loop.\n"
   ]
  },
  {
   "cell_type": "code",
   "execution_count": 9,
   "id": "b18ad5d7",
   "metadata": {},
   "outputs": [
    {
     "name": "stdout",
     "output_type": "stream",
     "text": [
      "1\n",
      "2\n",
      "3\n",
      "4\n",
      "5\n",
      "6\n",
      "7\n",
      "8\n",
      "9\n",
      "10\n"
     ]
    }
   ],
   "source": [
    "for i in range(1,11):\n",
    "    print(i)"
   ]
  },
  {
   "cell_type": "markdown",
   "id": "468093a1",
   "metadata": {
    "id": "468093a1"
   },
   "source": [
    "13. If you had a function named bacon() inside a module named spam, how would you call it after importing spam?"
   ]
  },
  {
   "cell_type": "markdown",
   "id": "b3526752",
   "metadata": {},
   "source": [
    "import spam\n",
    "a = spam.bacon()"
   ]
  },
  {
   "cell_type": "code",
   "execution_count": null,
   "id": "eac65279",
   "metadata": {},
   "outputs": [],
   "source": []
  }
 ],
 "metadata": {
  "colab": {
   "name": "Assignment_2.ipynb",
   "provenance": []
  },
  "kernelspec": {
   "display_name": "Python 3 (ipykernel)",
   "language": "python",
   "name": "python3"
  },
  "language_info": {
   "codemirror_mode": {
    "name": "ipython",
    "version": 3
   },
   "file_extension": ".py",
   "mimetype": "text/x-python",
   "name": "python",
   "nbconvert_exporter": "python",
   "pygments_lexer": "ipython3",
   "version": "3.9.7"
  }
 },
 "nbformat": 4,
 "nbformat_minor": 5
}
